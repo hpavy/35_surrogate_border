{
 "cells": [
  {
   "cell_type": "code",
   "execution_count": 1,
   "metadata": {},
   "outputs": [],
   "source": [
    "import pandas as pd\n",
    "import os "
   ]
  },
  {
   "cell_type": "code",
   "execution_count": 2,
   "metadata": {},
   "outputs": [],
   "source": [
    "hyper_param = {\n",
    "    \"H\": [\n",
    "        230.67,\n",
    "    ],\n",
    "    \"ya0\": [\n",
    "        0.00875,\n",
    "    ],\n",
    "    \"m\": 1.57,\n",
    "    \"file\": [\n",
    "        \"data_john_9_case_2.csv\",\n",
    "    ],\n",
    "    \"nb_epoch\": 1000,\n",
    "    \"save_rate\": 20,\n",
    "    \"dynamic_weights\": False,\n",
    "    \"lr_weights\": 0.1,\n",
    "    \"weight_data\": 0.33,\n",
    "    \"weight_pde\": 0.33,\n",
    "    \"weight_border\": 0.33,\n",
    "    \"batch_size\": 10000,\n",
    "    \"nb_points_pde\": 1000000,\n",
    "    \"Re\": 100,\n",
    "    \"lr_init\": 3e-4,\n",
    "    \"gamma_scheduler\": 0.999,\n",
    "    \"nb_layers\": 10,\n",
    "    \"nb_neurons\": 64,\n",
    "    \"n_pde_test\": 5000,\n",
    "    \"n_data_test\": 5000,\n",
    "    \"nb_points\": 144,\n",
    "    \"x_min\": -0.1,\n",
    "    \"x_max\": 0.1,\n",
    "    \"y_min\": -0.1,\n",
    "    \"y_max\": 0.1,\n",
    "    \"t_min\": 6.5,\n",
    "    \"nb_period\": 40,\n",
    "    \"nb_period_plot\": 2,\n",
    "    \"nb_points_close_cylinder\": 1,\n",
    "    \"rayon_close_cylinder\": 0.035,\n",
    "    \"force_inertie_bool\": True\n",
    "}\n",
    "\n"
   ]
  },
  {
   "cell_type": "code",
   "execution_count": 6,
   "metadata": {},
   "outputs": [],
   "source": [
    "names = [f\"model_{k}_case_1.csv\" for k in range(1,19)]\n",
    "names += [f\"model_{k}_case_2.csv\" for k in range(1,19)]"
   ]
  },
  {
   "cell_type": "code",
   "execution_count": 7,
   "metadata": {},
   "outputs": [],
   "source": [
    "x_min = -0.1\n",
    "x_max = 0.1\n",
    "y_min = -0.1\n",
    "y_max = 0.1\n",
    "t_min = 6.\n",
    "t_max = 12."
   ]
  },
  {
   "cell_type": "code",
   "execution_count": null,
   "metadata": {},
   "outputs": [
    {
     "name": "stdout",
     "output_type": "stream",
     "text": [
      "model_1_case_1.csv\n",
      "`s3/fhd/model_1_case_1.csv` -> `data/model_1_case_1.csv`\n",
      "Total: 1.19 GiB, Transferred: 1.19 GiB, Speed: 105.20 MiB/s\n",
      "`s3/fhd/model_1_case_1_border.csv` -> `data/model_1_case_1_border.csv`\n",
      "Total: 17.88 MiB, Transferred: 17.88 MiB, Speed: 72.33 MiB/s\n",
      "model_2_case_1.csv\n",
      "`s3/fhd/model_2_case_1.csv` -> `data/model_2_case_1.csv`\n",
      "Total: 1.19 GiB, Transferred: 1.19 GiB, Speed: 143.48 MiB/s\n",
      "`s3/fhd/model_2_case_1_border.csv` -> `data/model_2_case_1_border.csv`\n",
      "Total: 17.88 MiB, Transferred: 17.88 MiB, Speed: 69.58 MiB/s\n"
     ]
    }
   ],
   "source": [
    "for file in names :\n",
    "    print(file)\n",
    "    os.system(f'mc cp -r s3/fhd/{file} ./data/.')\n",
    "    os.system(f'mc cp -r s3/fhd/{file[:-4]}_border.csv ./data/.')\n",
    "    df = pd.read_csv('data/'+ file)\n",
    "    df_modified = df.loc[\n",
    "            (df[\"Points:0\"] >= x_min)\n",
    "            & (df[\"Points:0\"] <= x_max)\n",
    "            & (df[\"Points:1\"] >= y_min)\n",
    "            & (df[\"Points:1\"] <= y_max)\n",
    "            & (df[\"Time\"] > t_min)\n",
    "            & (df[\"Time\"] < t_max)\n",
    "            & (df[\"Points:2\"] == 0.0)\n",
    "            , :,\n",
    "        ].copy()\n",
    "    df_modified.to_csv('data/'+file, index=False)"
   ]
  },
  {
   "cell_type": "code",
   "execution_count": null,
   "metadata": {},
   "outputs": [],
   "source": []
  }
 ],
 "metadata": {
  "kernelspec": {
   "display_name": "base",
   "language": "python",
   "name": "python3"
  },
  "language_info": {
   "codemirror_mode": {
    "name": "ipython",
    "version": 3
   },
   "file_extension": ".py",
   "mimetype": "text/x-python",
   "name": "python",
   "nbconvert_exporter": "python",
   "pygments_lexer": "ipython3",
   "version": "3.12.7"
  }
 },
 "nbformat": 4,
 "nbformat_minor": 2
}
