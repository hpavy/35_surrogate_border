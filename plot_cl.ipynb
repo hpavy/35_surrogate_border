{
 "cells": [
  {
   "cell_type": "markdown",
   "metadata": {},
   "source": [
    "## On plot les courbes Cl"
   ]
  },
  {
   "cell_type": "code",
   "execution_count": 10,
   "metadata": {},
   "outputs": [],
   "source": [
    "import numpy as np\n",
    "import torch \n",
    "from model import PINNs\n",
    "import pandas as pd\n",
    "from utils import charge_data\n",
    "import json\n",
    "import matplotlib.pyplot as plt\n",
    "from plot_results import  plot_loss_decompose, plot_points, plot_loss\n",
    "from model import PINNs\n",
    "from utils import charge_data\n",
    "import json\n",
    "import torch\n",
    "import matplotlib.pyplot as plt\n",
    "from matplotlib.animation import FuncAnimation\n",
    "import os\n",
    "import numpy as np\n",
    "import time as time\n",
    "import pandas as pd\n",
    "from constants import DICT_CASE, DICT_Y0\n",
    "from geometry import RectangleWithoutCylinder"
   ]
  },
  {
   "cell_type": "code",
   "execution_count": 11,
   "metadata": {},
   "outputs": [],
   "source": [
    "folder_name = \"10_huge\"\n",
    "epoch = \"epoch820\""
   ]
  },
  {
   "cell_type": "code",
   "execution_count": 12,
   "metadata": {},
   "outputs": [],
   "source": [
    "param_adim = {\"V\": 1.0, \"L\": 0.025, \"rho\": 1.2}"
   ]
  },
  {
   "cell_type": "code",
   "execution_count": 13,
   "metadata": {},
   "outputs": [
    {
     "data": {
      "text/plain": [
       "<All keys matched successfully>"
      ]
     },
     "execution_count": 13,
     "metadata": {},
     "output_type": "execute_result"
    }
   ],
   "source": [
    "with open(\"results/\" + folder_name + \"/hyper_param.json\", \"r\") as file:\n",
    "    hyper_param = json.load(file)\n",
    "model = PINNs(hyper_param)\n",
    "checkpoint = torch.load(\n",
    "    \"results/\" + folder_name + \"/\" + epoch + \"/\" + \"model_weights.pth\",\n",
    "    map_location=torch.device(\"cpu\"),\n",
    ")\n",
    "model.load_state_dict(checkpoint[\"model_state_dict\"])\n"
   ]
  },
  {
   "cell_type": "code",
   "execution_count": 14,
   "metadata": {},
   "outputs": [],
   "source": [
    "with open('results/'+folder_name+'/mean_std.json') as file: \n",
    "    mean_std = json.load(file)"
   ]
  },
  {
   "cell_type": "code",
   "execution_count": 15,
   "metadata": {},
   "outputs": [],
   "source": [
    "def find_cl_data(num, case, time_init, time_max, param_adim, r=0.025/2):\n",
    "    df = pd.read_csv('data/'+ f\"data_john_{num}_case_{case}.csv\")\n",
    "    df_modified = df.loc[\n",
    "            (df[\"Time\"] > time_init)\n",
    "            & (df[\"Time\"] < time_init + 15 * (time_max- time_init))\n",
    "            & (df[\"Points:2\"] == 0.0)\n",
    "            & (df[\"Points:0\"] ** 2 + df[\"Points:1\"] ** 2 < 1.1* (0.025 / 2) ** 2),\n",
    "            :,\n",
    "        ].copy()\n",
    "    X_theta = np.empty((df_modified.shape[0], 3))\n",
    "    X_theta[:, 0] = time_init + ((df_modified['Time'].to_numpy() - time_init) % (time_max- time_init) )    #X_full[masque_theta][:, 2] \n",
    "    X_theta[:, 2] = df_modified['Pressure'].to_numpy()    #U_full[masque_theta][:, 2]\n",
    "    X_theta[:, 1] = np.atan2(df_modified['Points:1'].to_numpy(), df_modified['Points:0'].to_numpy())    #np.atan2(X_full[masque_theta][:, 1] * mean_std['y_std'] + mean_std['y_mean'], X_full[masque_theta][:, 0] * mean_std['x_std'] + mean_std['x_mean'])\n",
    "    portance = np.empty(np.unique(X_theta[:, 0]).shape[0])\n",
    "    for nb, time_ in enumerate(np.unique(X_theta[:, 0])):\n",
    "        masque_time = X_theta[:, 0] == time_\n",
    "        indices = np.argsort(X_theta[masque_time][:, 1])[::-1]\n",
    "        d_theta = X_theta[masque_time][indices][:-1, 1] - X_theta[masque_time][indices][1:, 1]\n",
    "        portance[nb] = -np.sum(X_theta[masque_time][indices][1:, 2] * np.sin(X_theta[masque_time][indices][1:, 1])*d_theta * r)\n",
    "    time_predict = np.unique(X_theta[:, 0])    # (X_full[masque_theta][:, 2].unique()* mean_std['t_std'] + mean_std['t_mean']) * (param_adim['L']/ param_adim['V'])\n",
    "    return time_predict, portance / (0.5 * param_adim['rho'] * param_adim['V']**2 * 2 * r)\n",
    "    "
   ]
  },
  {
   "cell_type": "code",
   "execution_count": 16,
   "metadata": {},
   "outputs": [],
   "source": [
    "def true_cl(num, case, time_init, time_max):\n",
    "    \"\"\"\n",
    "    Args:\n",
    "        num (int): Le numéro du modèle\n",
    "        case (int): Le numéro du case\n",
    "        time_init (float): le temps initial \n",
    "        time_max (float): le temps max\n",
    "\n",
    "\n",
    "    Returns:\n",
    "        time (np.array):  les valeurs de temps\n",
    "        cl (np.array): la valeur de cl à ces temps\n",
    "    \"\"\"\n",
    "    df = pd.read_csv(f'results_Cl/model_{num}_case_{case}/Cl.csv', index_col=False)\n",
    "    df_modified = df[((df.iloc[:, 2] > time_init) & (df.iloc[:, 2] < time_max))]\n",
    "    time = df_modified.iloc[:, 2].to_numpy()\n",
    "    cl = df_modified.iloc[:, 1].to_numpy()\n",
    "    return time, cl\n"
   ]
  },
  {
   "cell_type": "markdown",
   "metadata": {},
   "source": [
    "On a pour la force de portance : \n",
    "\n",
    "$\n",
    "\\overrightarrow{F_p}=-\\int_{\\theta=0}^{2\\pi}(P(\\theta)sin(\\theta)rd\\theta) \\overrightarrow{u_y}\n",
    "$"
   ]
  },
  {
   "cell_type": "code",
   "execution_count": 17,
   "metadata": {},
   "outputs": [],
   "source": [
    "def P(theta, t, ya0, w0, model, param_adim, mean_std, r = 0.025 / 2):\n",
    "    \"\"\"\n",
    "    Args:\n",
    "        theta (torch.tensor): les theta où on veut calculer\n",
    "        t_ad (torch.tensor): Les temps où on veut la pression en theta\n",
    "        ya0 (float) : la valeur d'amplitude pour estimer notre pression\n",
    "        model (torch.model): le NN qui prédit \n",
    "        param_adim (dict): dictionnaire des param d'adim\n",
    "        mean_std (dict): donne de quoi faire la normalisation Z\n",
    "        r (float): le rayon du cylindre\n",
    "\n",
    "    Returns:\n",
    "        P (torch.tensor):  les valeurs de pression sur le cylindre\n",
    "    \"\"\"\n",
    "    x = r * torch.cos(theta)\n",
    "    y = r * torch.sin(theta)\n",
    "    x_ad = ((x / param_adim['L']) - mean_std['x_mean'])/mean_std['x_std']\n",
    "    y_ad = ((y / param_adim['L']) - mean_std['y_mean'])/mean_std['y_std']\n",
    "    t_ad = ((t / (param_adim['L']/param_adim['V'])) - mean_std['t_mean']) / mean_std['t_std']\n",
    "    ya0_ad = torch.ones_like(x_ad) * ((ya0 / param_adim['L']) - mean_std['ya0_mean']) / mean_std['ya0_std']\n",
    "    w0_ad = torch.ones_like(x_ad) * ((w0 / (param_adim['V']/param_adim['L'])) - mean_std['w0_mean']) / mean_std['w0_std']\n",
    "    X = torch.stack((x_ad, y_ad, t_ad, ya0_ad, w0_ad), dim=1)\n",
    "    P_adim = model(X)[:, 2]\n",
    "    P = ((P_adim * mean_std['p_std'] + mean_std['p_mean']))*((param_adim['V']**2)*param_adim['rho'])\n",
    "    return P, x, y"
   ]
  },
  {
   "cell_type": "code",
   "execution_count": 18,
   "metadata": {},
   "outputs": [],
   "source": [
    "def predict_cl(t, ya0, w0,  model, param_adim, mean_std, r=0.025 / 2, nb_disc_theta=500):\n",
    "    \"\"\"\n",
    "    Args:\n",
    "        t_ad (torch.tensor): Les temps où on veut Cl\n",
    "        ya0 (float) : la valeur d'amplitude pour estimer notre Cl\n",
    "        model (torch.model): le NN qui prédit \n",
    "        param_adim (dict): dictionnaire des param d'adim\n",
    "        mean_std (dict): donne de quoi faire la normalisation Z\n",
    "        r (float): le rayon du cylindre\n",
    "        nb_disc_theta(int): sur combien de theta on discrétise\n",
    "\n",
    "    Returns:\n",
    "        Cl (torch.float):  les valeurs de pression sur le cylindre\n",
    "    \"\"\"\n",
    "    time_repeat = torch.repeat_interleave(t, repeats=nb_disc_theta)\n",
    "    d_theta = 2 * torch.pi / nb_disc_theta\n",
    "    theta_int = torch.linspace(0, 2*torch.pi, nb_disc_theta)\n",
    "    theta_tot = theta_int.repeat(t.shape[0])\n",
    "    pressure_tot, x, y = P(theta_tot, time_repeat, ya0, w0, model, param_adim, mean_std, r = 0.025 / 2) # .reshape(t.shape[0], nb_disc_theta) # (t.shape, nb_disc_theta)\n",
    "    pressure_tot = pressure_tot.reshape(t.shape[0], nb_disc_theta)\n",
    "    in_sum = pressure_tot * torch.sin(theta_int) * r * d_theta\n",
    "    portance = - torch.sum(in_sum, dim=1)\n",
    "    return portance/ (0.5 * param_adim['rho'] * param_adim['V']**2 * 2 * r) , x, y"
   ]
  },
  {
   "cell_type": "code",
   "execution_count": 23,
   "metadata": {},
   "outputs": [],
   "source": [
    "num = [\n",
    "    4,\n",
    "    7,\n",
    "    10,\n",
    "    13, \n",
    "    4,\n",
    "    7,\n",
    "    10,\n",
    "    13\n",
    "]\n",
    "\n",
    "case = [\n",
    "    1,\n",
    "    1,\n",
    "    1,\n",
    "    1,\n",
    "    2,\n",
    "    2,\n",
    "    2,\n",
    "    2,\n",
    "]\n",
    "\n",
    "files = [f'model_{num[k]}_case_{case[k]}.csv' for k in range(len(num))]\n",
    "\n",
    "ya0_L = [DICT_Y0[str(k)] for k in num]\n",
    "H_L = [DICT_CASE[str(k)] for k in case]"
   ]
  },
  {
   "cell_type": "code",
   "execution_count": 28,
   "metadata": {},
   "outputs": [],
   "source": [
    "ya0_L = hyper_param['ya0']\n",
    "H_L=hyper_param['H']\n",
    "num = [\n",
    "    int(hyper_param['file'][0][6])\n",
    "]\n",
    "\n",
    "case = [\n",
    "    int(hyper_param['file'][0][13]),\n",
    "]\n",
    "\n",
    "files = hyper_param['file']"
   ]
  },
  {
   "cell_type": "code",
   "execution_count": 24,
   "metadata": {},
   "outputs": [],
   "source": [
    "f = np.min(0.5 * (np.array(H_L) / hyper_param[\"m\"]) ** 0.5)"
   ]
  },
  {
   "cell_type": "code",
   "execution_count": 25,
   "metadata": {},
   "outputs": [],
   "source": [
    "\n",
    "t_max = hyper_param['t_min'] + 1 / f \n",
    "t = torch.linspace(hyper_param['t_min'], t_max, 1000)\n",
    "\n"
   ]
  },
  {
   "cell_type": "code",
   "execution_count": 26,
   "metadata": {},
   "outputs": [],
   "source": [
    "def find_cl_data(num, case, time_init, T, param_adim, r=0.025/2):\n",
    "    df = pd.read_csv('data/'+ f\"data_john_{num}_case_{case}.csv\")\n",
    "    df_modified = df.loc[\n",
    "            (df[\"Time\"] > time_init)\n",
    "            & (df[\"Time\"] < time_init + 15 * T)\n",
    "            & (df[\"Points:2\"] == 0.0)\n",
    "            & (df[\"Points:0\"] ** 2 + df[\"Points:1\"] ** 2 < 1.1* (0.025 / 2) ** 2),\n",
    "            :,\n",
    "        ].copy()\n",
    "    X_theta = np.empty((df_modified.shape[0], 3))\n",
    "    X_theta[:, 0] = time_init + ((df_modified['Time'].to_numpy() - time_init) % T )    #X_full[masque_theta][:, 2] \n",
    "    X_theta[:, 2] = df_modified['Pressure'].to_numpy()    #U_full[masque_theta][:, 2]\n",
    "    X_theta[:, 1] = np.atan2(df_modified['Points:1'].to_numpy(), df_modified['Points:0'].to_numpy())    #np.atan2(X_full[masque_theta][:, 1] * mean_std['y_std'] + mean_std['y_mean'], X_full[masque_theta][:, 0] * mean_std['x_std'] + mean_std['x_mean'])\n",
    "    portance = np.empty(np.unique(X_theta[:, 0]).shape[0])\n",
    "    for nb, time_ in enumerate(np.unique(X_theta[:, 0])):\n",
    "        masque_time = X_theta[:, 0] == time_\n",
    "        indices = np.argsort(X_theta[masque_time][:, 1])[::-1]\n",
    "        d_theta = X_theta[masque_time][indices][:-1, 1] - X_theta[masque_time][indices][1:, 1]\n",
    "        portance[nb] = -np.sum(X_theta[masque_time][indices][1:, 2] * np.sin(X_theta[masque_time][indices][1:, 1])*d_theta * r)\n",
    "    time_predict = np.unique(X_theta[:, 0])    # (X_full[masque_theta][:, 2].unique()* mean_std['t_std'] + mean_std['t_mean']) * (param_adim['L']/ param_adim['V'])\n",
    "    return time_predict, portance / (0.5 * param_adim['rho'] * param_adim['V']**2 * 2 * r)\n",
    "    "
   ]
  },
  {
   "cell_type": "code",
   "execution_count": 27,
   "metadata": {},
   "outputs": [],
   "source": [
    "def find_cl_data_with_model(num, case, time_init, T, param_adim, ya0_, H_, r=0.025/2):\n",
    "    df = pd.read_csv('data/'+ f\"data_john_{num}_case_{case}.csv\")\n",
    "    df_modified = df.loc[\n",
    "            (df[\"Time\"] > time_init)\n",
    "            & (df[\"Time\"] < time_init + 15 * T)\n",
    "            & (df[\"Points:2\"] == 0.0)\n",
    "            & (df[\"Points:0\"] ** 2 + df[\"Points:1\"] ** 2 < 1.1* (0.025 / 2) ** 2),\n",
    "            :,\n",
    "        ].copy()\n",
    "    X_theta = np.empty((df_modified.shape[0], 3))\n",
    "    X_theta[:, 0] = time_init + ((df_modified['Time'].to_numpy() - time_init) % T )    #X_full[masque_theta][:, 2] \n",
    "    #X_theta[:, 2] = df_modified['Pressure'].to_numpy()    #U_full[masque_theta][:, 2]\n",
    "    X_theta[:, 1] = np.atan2(df_modified['Points:1'].to_numpy(), df_modified['Points:0'].to_numpy())    #np.atan2(X_full[masque_theta][:, 1] * mean_std['y_std'] + mean_std['y_mean'], X_full[masque_theta][:, 0] * mean_std['x_std'] + mean_std['x_mean'])\n",
    "    x = (((torch.cos(torch.tensor(X_theta[:, 1])) * 0.025/2)/param_adim['L'])- mean_std['x_mean'])/mean_std['x_std']\n",
    "    y = (((torch.sin(torch.tensor(X_theta[:, 1])) * 0.025/2)/param_adim['L'])- mean_std['y_mean'])/mean_std['y_std']\n",
    "    time = torch.from_numpy(((X_theta[:, 0] / (param_adim['L']/ param_adim['V'])) - mean_std['t_mean'])/mean_std['t_std'])\n",
    "    ya0 = ((((ya0_ / param_adim['L'])) - mean_std['ya0_mean'])/mean_std['ya0_std'])*torch.ones_like(x)\n",
    "    w0 = torch.pi *(H_ / hyper_param[\"m\"]) ** 0.5\n",
    "    w0 = ((((w0 / (param_adim['V']/param_adim['L']))) - mean_std['w0_mean'])/mean_std['w0_std'])*torch.ones_like(x)\n",
    "    X_theta[:, 2] = ((model(torch.stack((x,y,time,ya0,w0), dim=1).to(torch.float32)).detach().numpy()[:, 2]) * mean_std['p_std'] + mean_std['p_mean'])*(((param_adim[\"V\"] ** 2) * param_adim[\"rho\"]))\n",
    "    portance = np.empty(np.unique(X_theta[:, 0]).shape[0])\n",
    "    for nb, time_ in enumerate(np.unique(X_theta[:, 0])):\n",
    "        masque_time = X_theta[:, 0] == time_,\n",
    "        indices = np.argsort(X_theta[masque_time][:, 1])[::-1]\n",
    "        d_theta = X_theta[masque_time][indices][:-1, 1] - X_theta[masque_time][indices][1:, 1]\n",
    "        portance[nb] = -np.sum(X_theta[masque_time][indices][1:, 2] * np.sin(X_theta[masque_time][indices][1:, 1])*d_theta * r)\n",
    "    time_predict = np.unique(X_theta[:, 0])    # (X_full[masque_theta][:, 2].unique()* mean_std['t_std'] + mean_std['t_mean']) * (param_adim['L']/ param_adim['V'])\n",
    "    return time_predict, portance / (0.5 * param_adim['rho'] * param_adim['V']**2 * 2 * r)\n",
    "    "
   ]
  },
  {
   "cell_type": "code",
   "execution_count": null,
   "metadata": {},
   "outputs": [],
   "source": []
  },
  {
   "cell_type": "code",
   "execution_count": 28,
   "metadata": {},
   "outputs": [
    {
     "name": "stdout",
     "output_type": "stream",
     "text": [
      "num :4, case: 1\n",
      "ya0: 0.003125, H: 261.39\n"
     ]
    },
    {
     "ename": "FileNotFoundError",
     "evalue": "[Errno 2] No such file or directory: 'results_Cl/model_4_case_1/Cl.csv'",
     "output_type": "error",
     "traceback": [
      "\u001b[0;31m---------------------------------------------------------------------------\u001b[0m",
      "\u001b[0;31mFileNotFoundError\u001b[0m                         Traceback (most recent call last)",
      "Cell \u001b[0;32mIn[28], line 7\u001b[0m\n\u001b[1;32m      5\u001b[0m \u001b[38;5;28mprint\u001b[39m(\u001b[38;5;124mf\u001b[39m\u001b[38;5;124m\"\u001b[39m\u001b[38;5;124mya0: \u001b[39m\u001b[38;5;132;01m{\u001b[39;00mya0_L[k]\u001b[38;5;132;01m}\u001b[39;00m\u001b[38;5;124m, H: \u001b[39m\u001b[38;5;132;01m{\u001b[39;00mH_L[k]\u001b[38;5;132;01m}\u001b[39;00m\u001b[38;5;124m\"\u001b[39m)\n\u001b[1;32m      6\u001b[0m cl_predict, x, y \u001b[38;5;241m=\u001b[39m predict_cl(t, ya0_L[k], w0, model, param_adim, mean_std, nb_disc_theta\u001b[38;5;241m=\u001b[39m\u001b[38;5;241m500\u001b[39m)\n\u001b[0;32m----> 7\u001b[0m time, cl_true \u001b[38;5;241m=\u001b[39m \u001b[43mtrue_cl\u001b[49m\u001b[43m(\u001b[49m\u001b[43mnum\u001b[49m\u001b[38;5;241;43m=\u001b[39;49m\u001b[43mnum\u001b[49m\u001b[43m[\u001b[49m\u001b[43mk\u001b[49m\u001b[43m]\u001b[49m\u001b[43m,\u001b[49m\u001b[43m \u001b[49m\u001b[43mcase\u001b[49m\u001b[38;5;241;43m=\u001b[39;49m\u001b[43mcase\u001b[49m\u001b[43m[\u001b[49m\u001b[43mk\u001b[49m\u001b[43m]\u001b[49m\u001b[43m,\u001b[49m\u001b[43m \u001b[49m\u001b[43mtime_init\u001b[49m\u001b[38;5;241;43m=\u001b[39;49m\u001b[43mhyper_param\u001b[49m\u001b[43m[\u001b[49m\u001b[38;5;124;43m'\u001b[39;49m\u001b[38;5;124;43mt_min\u001b[39;49m\u001b[38;5;124;43m'\u001b[39;49m\u001b[43m]\u001b[49m\u001b[43m,\u001b[49m\u001b[43m \u001b[49m\u001b[43mtime_max\u001b[49m\u001b[38;5;241;43m=\u001b[39;49m\u001b[43mt_max\u001b[49m\u001b[43m)\u001b[49m\n\u001b[1;32m      8\u001b[0m \u001b[38;5;28;01mwith\u001b[39;00m torch\u001b[38;5;241m.\u001b[39mno_grad():\n\u001b[1;32m      9\u001b[0m     plt\u001b[38;5;241m.\u001b[39mplot(t, cl_predict, color \u001b[38;5;241m=\u001b[39m \u001b[38;5;124m'\u001b[39m\u001b[38;5;124mred\u001b[39m\u001b[38;5;124m'\u001b[39m, label \u001b[38;5;241m=\u001b[39m \u001b[38;5;124m'\u001b[39m\u001b[38;5;124mPredict Cl\u001b[39m\u001b[38;5;124m'\u001b[39m, linewidth\u001b[38;5;241m=\u001b[39m\u001b[38;5;241m0.8\u001b[39m)\n",
      "Cell \u001b[0;32mIn[16], line 14\u001b[0m, in \u001b[0;36mtrue_cl\u001b[0;34m(num, case, time_init, time_max)\u001b[0m\n\u001b[1;32m      1\u001b[0m \u001b[38;5;28;01mdef\u001b[39;00m\u001b[38;5;250m \u001b[39m\u001b[38;5;21mtrue_cl\u001b[39m(num, case, time_init, time_max):\n\u001b[1;32m      2\u001b[0m \u001b[38;5;250m    \u001b[39m\u001b[38;5;124;03m\"\"\"\u001b[39;00m\n\u001b[1;32m      3\u001b[0m \u001b[38;5;124;03m    Args:\u001b[39;00m\n\u001b[1;32m      4\u001b[0m \u001b[38;5;124;03m        num (int): Le numéro du modèle\u001b[39;00m\n\u001b[0;32m   (...)\u001b[0m\n\u001b[1;32m     12\u001b[0m \u001b[38;5;124;03m        cl (np.array): la valeur de cl à ces temps\u001b[39;00m\n\u001b[1;32m     13\u001b[0m \u001b[38;5;124;03m    \"\"\"\u001b[39;00m\n\u001b[0;32m---> 14\u001b[0m     df \u001b[38;5;241m=\u001b[39m \u001b[43mpd\u001b[49m\u001b[38;5;241;43m.\u001b[39;49m\u001b[43mread_csv\u001b[49m\u001b[43m(\u001b[49m\u001b[38;5;124;43mf\u001b[39;49m\u001b[38;5;124;43m'\u001b[39;49m\u001b[38;5;124;43mresults_Cl/model_\u001b[39;49m\u001b[38;5;132;43;01m{\u001b[39;49;00m\u001b[43mnum\u001b[49m\u001b[38;5;132;43;01m}\u001b[39;49;00m\u001b[38;5;124;43m_case_\u001b[39;49m\u001b[38;5;132;43;01m{\u001b[39;49;00m\u001b[43mcase\u001b[49m\u001b[38;5;132;43;01m}\u001b[39;49;00m\u001b[38;5;124;43m/Cl.csv\u001b[39;49m\u001b[38;5;124;43m'\u001b[39;49m\u001b[43m,\u001b[49m\u001b[43m \u001b[49m\u001b[43mindex_col\u001b[49m\u001b[38;5;241;43m=\u001b[39;49m\u001b[38;5;28;43;01mFalse\u001b[39;49;00m\u001b[43m)\u001b[49m\n\u001b[1;32m     15\u001b[0m     df_modified \u001b[38;5;241m=\u001b[39m df[((df\u001b[38;5;241m.\u001b[39miloc[:, \u001b[38;5;241m2\u001b[39m] \u001b[38;5;241m>\u001b[39m time_init) \u001b[38;5;241m&\u001b[39m (df\u001b[38;5;241m.\u001b[39miloc[:, \u001b[38;5;241m2\u001b[39m] \u001b[38;5;241m<\u001b[39m time_max))]\n\u001b[1;32m     16\u001b[0m     time \u001b[38;5;241m=\u001b[39m df_modified\u001b[38;5;241m.\u001b[39miloc[:, \u001b[38;5;241m2\u001b[39m]\u001b[38;5;241m.\u001b[39mto_numpy()\n",
      "File \u001b[0;32m/opt/conda/lib/python3.12/site-packages/pandas/io/parsers/readers.py:1026\u001b[0m, in \u001b[0;36mread_csv\u001b[0;34m(filepath_or_buffer, sep, delimiter, header, names, index_col, usecols, dtype, engine, converters, true_values, false_values, skipinitialspace, skiprows, skipfooter, nrows, na_values, keep_default_na, na_filter, verbose, skip_blank_lines, parse_dates, infer_datetime_format, keep_date_col, date_parser, date_format, dayfirst, cache_dates, iterator, chunksize, compression, thousands, decimal, lineterminator, quotechar, quoting, doublequote, escapechar, comment, encoding, encoding_errors, dialect, on_bad_lines, delim_whitespace, low_memory, memory_map, float_precision, storage_options, dtype_backend)\u001b[0m\n\u001b[1;32m   1013\u001b[0m kwds_defaults \u001b[38;5;241m=\u001b[39m _refine_defaults_read(\n\u001b[1;32m   1014\u001b[0m     dialect,\n\u001b[1;32m   1015\u001b[0m     delimiter,\n\u001b[0;32m   (...)\u001b[0m\n\u001b[1;32m   1022\u001b[0m     dtype_backend\u001b[38;5;241m=\u001b[39mdtype_backend,\n\u001b[1;32m   1023\u001b[0m )\n\u001b[1;32m   1024\u001b[0m kwds\u001b[38;5;241m.\u001b[39mupdate(kwds_defaults)\n\u001b[0;32m-> 1026\u001b[0m \u001b[38;5;28;01mreturn\u001b[39;00m \u001b[43m_read\u001b[49m\u001b[43m(\u001b[49m\u001b[43mfilepath_or_buffer\u001b[49m\u001b[43m,\u001b[49m\u001b[43m \u001b[49m\u001b[43mkwds\u001b[49m\u001b[43m)\u001b[49m\n",
      "File \u001b[0;32m/opt/conda/lib/python3.12/site-packages/pandas/io/parsers/readers.py:620\u001b[0m, in \u001b[0;36m_read\u001b[0;34m(filepath_or_buffer, kwds)\u001b[0m\n\u001b[1;32m    617\u001b[0m _validate_names(kwds\u001b[38;5;241m.\u001b[39mget(\u001b[38;5;124m\"\u001b[39m\u001b[38;5;124mnames\u001b[39m\u001b[38;5;124m\"\u001b[39m, \u001b[38;5;28;01mNone\u001b[39;00m))\n\u001b[1;32m    619\u001b[0m \u001b[38;5;66;03m# Create the parser.\u001b[39;00m\n\u001b[0;32m--> 620\u001b[0m parser \u001b[38;5;241m=\u001b[39m \u001b[43mTextFileReader\u001b[49m\u001b[43m(\u001b[49m\u001b[43mfilepath_or_buffer\u001b[49m\u001b[43m,\u001b[49m\u001b[43m \u001b[49m\u001b[38;5;241;43m*\u001b[39;49m\u001b[38;5;241;43m*\u001b[39;49m\u001b[43mkwds\u001b[49m\u001b[43m)\u001b[49m\n\u001b[1;32m    622\u001b[0m \u001b[38;5;28;01mif\u001b[39;00m chunksize \u001b[38;5;129;01mor\u001b[39;00m iterator:\n\u001b[1;32m    623\u001b[0m     \u001b[38;5;28;01mreturn\u001b[39;00m parser\n",
      "File \u001b[0;32m/opt/conda/lib/python3.12/site-packages/pandas/io/parsers/readers.py:1620\u001b[0m, in \u001b[0;36mTextFileReader.__init__\u001b[0;34m(self, f, engine, **kwds)\u001b[0m\n\u001b[1;32m   1617\u001b[0m     \u001b[38;5;28mself\u001b[39m\u001b[38;5;241m.\u001b[39moptions[\u001b[38;5;124m\"\u001b[39m\u001b[38;5;124mhas_index_names\u001b[39m\u001b[38;5;124m\"\u001b[39m] \u001b[38;5;241m=\u001b[39m kwds[\u001b[38;5;124m\"\u001b[39m\u001b[38;5;124mhas_index_names\u001b[39m\u001b[38;5;124m\"\u001b[39m]\n\u001b[1;32m   1619\u001b[0m \u001b[38;5;28mself\u001b[39m\u001b[38;5;241m.\u001b[39mhandles: IOHandles \u001b[38;5;241m|\u001b[39m \u001b[38;5;28;01mNone\u001b[39;00m \u001b[38;5;241m=\u001b[39m \u001b[38;5;28;01mNone\u001b[39;00m\n\u001b[0;32m-> 1620\u001b[0m \u001b[38;5;28mself\u001b[39m\u001b[38;5;241m.\u001b[39m_engine \u001b[38;5;241m=\u001b[39m \u001b[38;5;28;43mself\u001b[39;49m\u001b[38;5;241;43m.\u001b[39;49m\u001b[43m_make_engine\u001b[49m\u001b[43m(\u001b[49m\u001b[43mf\u001b[49m\u001b[43m,\u001b[49m\u001b[43m \u001b[49m\u001b[38;5;28;43mself\u001b[39;49m\u001b[38;5;241;43m.\u001b[39;49m\u001b[43mengine\u001b[49m\u001b[43m)\u001b[49m\n",
      "File \u001b[0;32m/opt/conda/lib/python3.12/site-packages/pandas/io/parsers/readers.py:1880\u001b[0m, in \u001b[0;36mTextFileReader._make_engine\u001b[0;34m(self, f, engine)\u001b[0m\n\u001b[1;32m   1878\u001b[0m     \u001b[38;5;28;01mif\u001b[39;00m \u001b[38;5;124m\"\u001b[39m\u001b[38;5;124mb\u001b[39m\u001b[38;5;124m\"\u001b[39m \u001b[38;5;129;01mnot\u001b[39;00m \u001b[38;5;129;01min\u001b[39;00m mode:\n\u001b[1;32m   1879\u001b[0m         mode \u001b[38;5;241m+\u001b[39m\u001b[38;5;241m=\u001b[39m \u001b[38;5;124m\"\u001b[39m\u001b[38;5;124mb\u001b[39m\u001b[38;5;124m\"\u001b[39m\n\u001b[0;32m-> 1880\u001b[0m \u001b[38;5;28mself\u001b[39m\u001b[38;5;241m.\u001b[39mhandles \u001b[38;5;241m=\u001b[39m \u001b[43mget_handle\u001b[49m\u001b[43m(\u001b[49m\n\u001b[1;32m   1881\u001b[0m \u001b[43m    \u001b[49m\u001b[43mf\u001b[49m\u001b[43m,\u001b[49m\n\u001b[1;32m   1882\u001b[0m \u001b[43m    \u001b[49m\u001b[43mmode\u001b[49m\u001b[43m,\u001b[49m\n\u001b[1;32m   1883\u001b[0m \u001b[43m    \u001b[49m\u001b[43mencoding\u001b[49m\u001b[38;5;241;43m=\u001b[39;49m\u001b[38;5;28;43mself\u001b[39;49m\u001b[38;5;241;43m.\u001b[39;49m\u001b[43moptions\u001b[49m\u001b[38;5;241;43m.\u001b[39;49m\u001b[43mget\u001b[49m\u001b[43m(\u001b[49m\u001b[38;5;124;43m\"\u001b[39;49m\u001b[38;5;124;43mencoding\u001b[39;49m\u001b[38;5;124;43m\"\u001b[39;49m\u001b[43m,\u001b[49m\u001b[43m \u001b[49m\u001b[38;5;28;43;01mNone\u001b[39;49;00m\u001b[43m)\u001b[49m\u001b[43m,\u001b[49m\n\u001b[1;32m   1884\u001b[0m \u001b[43m    \u001b[49m\u001b[43mcompression\u001b[49m\u001b[38;5;241;43m=\u001b[39;49m\u001b[38;5;28;43mself\u001b[39;49m\u001b[38;5;241;43m.\u001b[39;49m\u001b[43moptions\u001b[49m\u001b[38;5;241;43m.\u001b[39;49m\u001b[43mget\u001b[49m\u001b[43m(\u001b[49m\u001b[38;5;124;43m\"\u001b[39;49m\u001b[38;5;124;43mcompression\u001b[39;49m\u001b[38;5;124;43m\"\u001b[39;49m\u001b[43m,\u001b[49m\u001b[43m \u001b[49m\u001b[38;5;28;43;01mNone\u001b[39;49;00m\u001b[43m)\u001b[49m\u001b[43m,\u001b[49m\n\u001b[1;32m   1885\u001b[0m \u001b[43m    \u001b[49m\u001b[43mmemory_map\u001b[49m\u001b[38;5;241;43m=\u001b[39;49m\u001b[38;5;28;43mself\u001b[39;49m\u001b[38;5;241;43m.\u001b[39;49m\u001b[43moptions\u001b[49m\u001b[38;5;241;43m.\u001b[39;49m\u001b[43mget\u001b[49m\u001b[43m(\u001b[49m\u001b[38;5;124;43m\"\u001b[39;49m\u001b[38;5;124;43mmemory_map\u001b[39;49m\u001b[38;5;124;43m\"\u001b[39;49m\u001b[43m,\u001b[49m\u001b[43m \u001b[49m\u001b[38;5;28;43;01mFalse\u001b[39;49;00m\u001b[43m)\u001b[49m\u001b[43m,\u001b[49m\n\u001b[1;32m   1886\u001b[0m \u001b[43m    \u001b[49m\u001b[43mis_text\u001b[49m\u001b[38;5;241;43m=\u001b[39;49m\u001b[43mis_text\u001b[49m\u001b[43m,\u001b[49m\n\u001b[1;32m   1887\u001b[0m \u001b[43m    \u001b[49m\u001b[43merrors\u001b[49m\u001b[38;5;241;43m=\u001b[39;49m\u001b[38;5;28;43mself\u001b[39;49m\u001b[38;5;241;43m.\u001b[39;49m\u001b[43moptions\u001b[49m\u001b[38;5;241;43m.\u001b[39;49m\u001b[43mget\u001b[49m\u001b[43m(\u001b[49m\u001b[38;5;124;43m\"\u001b[39;49m\u001b[38;5;124;43mencoding_errors\u001b[39;49m\u001b[38;5;124;43m\"\u001b[39;49m\u001b[43m,\u001b[49m\u001b[43m \u001b[49m\u001b[38;5;124;43m\"\u001b[39;49m\u001b[38;5;124;43mstrict\u001b[39;49m\u001b[38;5;124;43m\"\u001b[39;49m\u001b[43m)\u001b[49m\u001b[43m,\u001b[49m\n\u001b[1;32m   1888\u001b[0m \u001b[43m    \u001b[49m\u001b[43mstorage_options\u001b[49m\u001b[38;5;241;43m=\u001b[39;49m\u001b[38;5;28;43mself\u001b[39;49m\u001b[38;5;241;43m.\u001b[39;49m\u001b[43moptions\u001b[49m\u001b[38;5;241;43m.\u001b[39;49m\u001b[43mget\u001b[49m\u001b[43m(\u001b[49m\u001b[38;5;124;43m\"\u001b[39;49m\u001b[38;5;124;43mstorage_options\u001b[39;49m\u001b[38;5;124;43m\"\u001b[39;49m\u001b[43m,\u001b[49m\u001b[43m \u001b[49m\u001b[38;5;28;43;01mNone\u001b[39;49;00m\u001b[43m)\u001b[49m\u001b[43m,\u001b[49m\n\u001b[1;32m   1889\u001b[0m \u001b[43m\u001b[49m\u001b[43m)\u001b[49m\n\u001b[1;32m   1890\u001b[0m \u001b[38;5;28;01massert\u001b[39;00m \u001b[38;5;28mself\u001b[39m\u001b[38;5;241m.\u001b[39mhandles \u001b[38;5;129;01mis\u001b[39;00m \u001b[38;5;129;01mnot\u001b[39;00m \u001b[38;5;28;01mNone\u001b[39;00m\n\u001b[1;32m   1891\u001b[0m f \u001b[38;5;241m=\u001b[39m \u001b[38;5;28mself\u001b[39m\u001b[38;5;241m.\u001b[39mhandles\u001b[38;5;241m.\u001b[39mhandle\n",
      "File \u001b[0;32m/opt/conda/lib/python3.12/site-packages/pandas/io/common.py:873\u001b[0m, in \u001b[0;36mget_handle\u001b[0;34m(path_or_buf, mode, encoding, compression, memory_map, is_text, errors, storage_options)\u001b[0m\n\u001b[1;32m    868\u001b[0m \u001b[38;5;28;01melif\u001b[39;00m \u001b[38;5;28misinstance\u001b[39m(handle, \u001b[38;5;28mstr\u001b[39m):\n\u001b[1;32m    869\u001b[0m     \u001b[38;5;66;03m# Check whether the filename is to be opened in binary mode.\u001b[39;00m\n\u001b[1;32m    870\u001b[0m     \u001b[38;5;66;03m# Binary mode does not support 'encoding' and 'newline'.\u001b[39;00m\n\u001b[1;32m    871\u001b[0m     \u001b[38;5;28;01mif\u001b[39;00m ioargs\u001b[38;5;241m.\u001b[39mencoding \u001b[38;5;129;01mand\u001b[39;00m \u001b[38;5;124m\"\u001b[39m\u001b[38;5;124mb\u001b[39m\u001b[38;5;124m\"\u001b[39m \u001b[38;5;129;01mnot\u001b[39;00m \u001b[38;5;129;01min\u001b[39;00m ioargs\u001b[38;5;241m.\u001b[39mmode:\n\u001b[1;32m    872\u001b[0m         \u001b[38;5;66;03m# Encoding\u001b[39;00m\n\u001b[0;32m--> 873\u001b[0m         handle \u001b[38;5;241m=\u001b[39m \u001b[38;5;28;43mopen\u001b[39;49m\u001b[43m(\u001b[49m\n\u001b[1;32m    874\u001b[0m \u001b[43m            \u001b[49m\u001b[43mhandle\u001b[49m\u001b[43m,\u001b[49m\n\u001b[1;32m    875\u001b[0m \u001b[43m            \u001b[49m\u001b[43mioargs\u001b[49m\u001b[38;5;241;43m.\u001b[39;49m\u001b[43mmode\u001b[49m\u001b[43m,\u001b[49m\n\u001b[1;32m    876\u001b[0m \u001b[43m            \u001b[49m\u001b[43mencoding\u001b[49m\u001b[38;5;241;43m=\u001b[39;49m\u001b[43mioargs\u001b[49m\u001b[38;5;241;43m.\u001b[39;49m\u001b[43mencoding\u001b[49m\u001b[43m,\u001b[49m\n\u001b[1;32m    877\u001b[0m \u001b[43m            \u001b[49m\u001b[43merrors\u001b[49m\u001b[38;5;241;43m=\u001b[39;49m\u001b[43merrors\u001b[49m\u001b[43m,\u001b[49m\n\u001b[1;32m    878\u001b[0m \u001b[43m            \u001b[49m\u001b[43mnewline\u001b[49m\u001b[38;5;241;43m=\u001b[39;49m\u001b[38;5;124;43m\"\u001b[39;49m\u001b[38;5;124;43m\"\u001b[39;49m\u001b[43m,\u001b[49m\n\u001b[1;32m    879\u001b[0m \u001b[43m        \u001b[49m\u001b[43m)\u001b[49m\n\u001b[1;32m    880\u001b[0m     \u001b[38;5;28;01melse\u001b[39;00m:\n\u001b[1;32m    881\u001b[0m         \u001b[38;5;66;03m# Binary mode\u001b[39;00m\n\u001b[1;32m    882\u001b[0m         handle \u001b[38;5;241m=\u001b[39m \u001b[38;5;28mopen\u001b[39m(handle, ioargs\u001b[38;5;241m.\u001b[39mmode)\n",
      "\u001b[0;31mFileNotFoundError\u001b[0m: [Errno 2] No such file or directory: 'results_Cl/model_4_case_1/Cl.csv'"
     ]
    }
   ],
   "source": [
    "for k in range(len(case)):\n",
    "    w0 = torch.pi * (H_L[k]/hyper_param['m'])**0.5\n",
    "    T = 2 * torch.pi/w0\n",
    "    print(f\"num :{num[k]}, case: {case[k]}\")\n",
    "    print(f\"ya0: {ya0_L[k]}, H: {H_L[k]}\")\n",
    "    cl_predict, x, y = predict_cl(t, ya0_L[k], w0, model, param_adim, mean_std, nb_disc_theta=500)\n",
    "    time, cl_true = true_cl(num=num[k], case=case[k], time_init=hyper_param['t_min'], time_max=t_max)\n",
    "    with torch.no_grad():\n",
    "        plt.plot(t, cl_predict, color = 'red', label = 'Predict Cl', linewidth=0.8)\n",
    "        plt.plot(time, cl_true, label = 'True Cl', color='blue', linewidth=0.8)\n",
    "        #plt.plot(time_data, cl_data, label = 'Data Cl', color='green', linewidth=0.8)\n",
    "        plt.title('plot de Cl', fontsize=16, fontweight='bold')  # Titre\n",
    "        plt.xlabel('Temps (s)', fontsize=14)  # Label de l'axe x\n",
    "        plt.ylabel('Cl', fontsize=14)  # Label de l'axe y\n",
    "        plt.legend(loc='upper right', fontsize=12)  # Légende\n",
    "        plt.grid(alpha=0.7, linestyle= '--')  # Grille avec transparence\n",
    "        plt.xticks(fontsize=12)  # Taille des ticks de l'axe x\n",
    "        plt.yticks(fontsize=12)  # Taille des ticks de l'axe y\n",
    "        plt.tight_layout()  # Ajuste le layout pour éviter le chevauchement\n",
    "        os.makedirs('results/' + folder_name + f'/H_{H_L[k]}/ya0_{ya0_L[k]:.2e}', exist_ok=True)\n",
    "        plt.savefig('results/' + folder_name + f'/H_{H_L[k]}/ya0_{ya0_L[k]:.2e}/cl.png')\n",
    "        plt.show()\n",
    "    "
   ]
  },
  {
   "cell_type": "code",
   "execution_count": null,
   "metadata": {},
   "outputs": [],
   "source": []
  }
 ],
 "metadata": {
  "kernelspec": {
   "display_name": "base",
   "language": "python",
   "name": "python3"
  },
  "language_info": {
   "codemirror_mode": {
    "name": "ipython",
    "version": 3
   },
   "file_extension": ".py",
   "mimetype": "text/x-python",
   "name": "python",
   "nbconvert_exporter": "python",
   "pygments_lexer": "ipython3",
   "version": "3.12.7"
  }
 },
 "nbformat": 4,
 "nbformat_minor": 2
}
